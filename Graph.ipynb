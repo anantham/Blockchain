{
 "cells": [
  {
   "cell_type": "code",
   "execution_count": null,
   "metadata": {},
   "outputs": [],
   "source": [
    "N = 10\n",
    "i = 0\n",
    "\n",
    "class block:\n",
    "    prevHash = ''\n",
    "    transaction = ''\n",
    "    PoW = '' # the proof of work\n",
    "    \n",
    "\n",
    "class node:\n",
    "    myLabel = 0\n",
    "    # label:pubKey pairs for all other nodes\n",
    "    publicKeys = {}\n",
    "    # All connected nodes\n",
    "    neighbours = []\n",
    "    \n",
    "    # list of blocks\n",
    "    blockchain = []\n",
    "    \n",
    "    def __init__(self):\n",
    "        self.myLabel = i\n",
    "        i += 1 #Next node created with label i+1\n",
    "        \n",
    "        "
   ]
  }
 ],
 "metadata": {
  "kernelspec": {
   "display_name": "Python 3",
   "language": "python",
   "name": "python3"
  },
  "language_info": {
   "codemirror_mode": {
    "name": "ipython",
    "version": 3
   },
   "file_extension": ".py",
   "mimetype": "text/x-python",
   "name": "python",
   "nbconvert_exporter": "python",
   "pygments_lexer": "ipython3",
   "version": "3.7.3"
  }
 },
 "nbformat": 4,
 "nbformat_minor": 2
}
